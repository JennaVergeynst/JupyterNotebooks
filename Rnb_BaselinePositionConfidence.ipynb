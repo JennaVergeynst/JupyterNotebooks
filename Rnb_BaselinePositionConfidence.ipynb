{
 "cells": [
  {
   "cell_type": "markdown",
   "metadata": {},
   "source": [
    "# Comparing filtering influence of different reference and sync tags"
   ]
  },
  {
   "cell_type": "code",
   "execution_count": null,
   "metadata": {
    "collapsed": true
   },
   "outputs": [],
   "source": [
    "\n",
    "display_html(\n",
    "'<script>  \n",
    "code_show=true; \n",
    "function code_toggle() {\n",
    "  if (code_show){\n",
    "    $(\\'div.input\\').hide();\n",
    "  } else {\n",
    "    $(\\'div.input\\').show();\n",
    "  }\n",
    "  code_show = !code_show\n",
    "}  \n",
    "$( document ).ready(code_toggle);\n",
    "</script>\n",
    "  <form action=\"javascript:code_toggle()\">\n",
    "    <input type=\"submit\" value=\"Click here to toggle on/off the raw code.\">\n",
    " </form>'\n",
    ")"
   ]
  },
  {
   "cell_type": "code",
   "execution_count": 9,
   "metadata": {
    "collapsed": false
   },
   "outputs": [],
   "source": [
    "require(PBSmapping)\n",
    "library(ggplot2)\n",
    "require(grid)\n",
    "require(gridExtra)\n",
    "require(sp)\n",
    "library(IRdisplay)\n",
    "library(repr)\n",
    "library(splancs)\n"
   ]
  },
  {
   "cell_type": "code",
   "execution_count": null,
   "metadata": {
    "collapsed": false
   },
   "outputs": [],
   "source": [
    "#my_files = paste0(\"~/Documents/DataHam/VPS/VPS-INBO-01-Results20160304/Positions/TRANSMITTER-\", tests, \"-CALC-POSITIONS.csv\")\n",
    "#my_files"
   ]
  },
  {
   "cell_type": "code",
   "execution_count": 39,
   "metadata": {
    "collapsed": true
   },
   "outputs": [],
   "source": []
  },
  {
   "cell_type": "code",
   "execution_count": null,
   "metadata": {
    "collapsed": false
   },
   "outputs": [],
   "source": [
    "all_pos$LAT"
   ]
  },
  {
   "cell_type": "code",
   "execution_count": 67,
   "metadata": {
    "collapsed": false
   },
   "outputs": [
    {
     "name": "stderr",
     "output_type": "stream",
     "text": [
      "convUL: For the UTM conversion, automatically detected zone 31.\n",
      "convUL: Converting coordinates within the northern hemisphere.\n",
      "convUL: For the UTM conversion, automatically detected zone 31.\n",
      "convUL: Converting coordinates within the northern hemisphere.\n",
      "convUL: For the UTM conversion, automatically detected zone 31.\n",
      "convUL: Converting coordinates within the northern hemisphere.\n"
     ]
    },
    {
     "name": "stdout",
     "output_type": "stream",
     "text": [
      "[1] \"Check: No points on the edge\"\n"
     ]
    }
   ],
   "source": [
    "# read data\n",
    "\n",
    "all_pos <- read.csv(\"~/Documents/DataHam/VPS/VPS-INBO-01-Results20160304/Positions/ALL-CALC-POSITIONS.csv\", stringsAsFactors=FALSE)\n",
    "tagll <- data.frame(X = all_pos$LON, Y=all_pos$LAT)\n",
    "attr(tagll, \"projection\") <- \"LL\"\n",
    "xyrec <- convUL(tagll) * 1000\n",
    "all_pos$Easting<- xyrec[,1]\n",
    "all_pos$Northing<- xyrec[,2]\n",
    "\n",
    "syncRec <- read.csv(\"~/Documents/DataHam/VPS/VPS-INBO-01-Results20160304/RefSyncStationLocations.csv\")\n",
    "# known Easting and Northing (UTM) for fixed tag location.\n",
    "tagll <- data.frame(X = syncRec$Longitude, Y=syncRec$Latitude)\n",
    "attr(tagll, \"projection\") <- \"LL\"\n",
    "xyrec <- convUL(tagll) * 1000\n",
    "syncRec$Easting<- xyrec[,1]\n",
    "syncRec$Northing<- xyrec[,2]\n",
    "\n",
    "# preparing receiver data for use in plots\n",
    "rec2016 <- read.csv(\"~/Documents/DataHam/VPS/VPS-INBO-01-Results20160304/onlyStationLocations.csv\")\n",
    "tagll <- data.frame(X = rec2016$Longitude, Y = rec2016$Latitude)\n",
    "attr(tagll, \"projection\") <- \"LL\"\n",
    "xyrec <- convUL(tagll) * 1000\n",
    "rec2016$Easting<- xyrec[,1]\n",
    "rec2016$Northing<- xyrec[,2]\n",
    "\n",
    "# actual vps fish data\n",
    "# eel ID's: 100 to 109, 26514, 38725 to 38740 but 34, 35, 38 and 39 missing\n",
    "eelIDs <- c(100:109,26514,38725:38733,38736,38737,38740)\n",
    "pos <- all_pos[all_pos$TRANSMITTER<38741,]\n",
    "rownames(pos) <- seq(length=nrow(pos))\n",
    "\n",
    "# chull gives an integer vector giving the indices of the unique points lying on the convex hull, in clockwise order\n",
    "z <- chull(rec2016$Easting,rec2016$Northing)\n",
    "# to make a polygon from this: re-index the polygon\n",
    "recPoly <- rec2016[z,]\n",
    "rownames(recPoly) <- seq(length=nrow(recPoly))\n",
    "\n",
    "#Determine of each position whether it lies in or out the polygon\n",
    "pos$inPoly <- point.in.polygon(pos$Easting, pos$Northing, recPoly$Easting,recPoly$Northing)\n",
    "#if max = 1: all points lie in or out the polygon, none on the edge\n",
    "if (max(pos$inPoly) == 1) {    \n",
    "    print('Check: No points on the edge')}"
   ]
  },
  {
   "cell_type": "code",
   "execution_count": 53,
   "metadata": {
    "collapsed": false
   },
   "outputs": [
    {
     "data": {
      "text/html": [
       "7409"
      ],
      "text/latex": [
       "7409"
      ],
      "text/markdown": [
       "7409"
      ],
      "text/plain": [
       "[1] 7409"
      ]
     },
     "execution_count": 53,
     "metadata": {},
     "output_type": "execute_result"
    }
   ],
   "source": [
    "length(pos[[1]])"
   ]
  },
  {
   "cell_type": "code",
   "execution_count": 68,
   "metadata": {
    "collapsed": true
   },
   "outputs": [],
   "source": [
    "#set variables\n",
    "\n",
    "# average tag transmission rate of stationary tags (ref and sync) \n",
    "# = average random delay (600)+ average transmission length (3.6)\n",
    "transRateStat <- 603.6\n",
    "# Accuracy Goals: These are determined by your reserach questions and analysis needs.\n",
    "# Outlier Maximum (Trevor: 15m)\n",
    "OutlierGoal <- 15\n",
    "# Accuracy Goal for all Points: 2DRMS <= accGoal (Trevor: 6m)\n",
    "accGoal <- 2.5\n",
    "# Goal for average accuracy if studying path lengths (1 order of magnitude less than max path length) (Trevor: 1.77)\n",
    "avgAccGoal<- 0.66\n",
    "tests <- c('R1','R2','R3','S7','S8','S10','S12','S13','S14','S15','S16','S17','S18' )\n",
    "\n",
    "#evaluation of baseline position confidence\n",
    "confStats <- data.frame(tests)\n",
    "confStats$posYield <- NA\n",
    "confStats$avgAcc <- NA\n",
    "confStats$medAcc <- NA\n",
    "confStats$propAcc <- NA\n",
    "confStats$outlierCount <- NA\n",
    "confStats$totalPoints <- NA\n",
    "confStats$nbBins <- NA\n",
    "confStats$intercept <- NA\n",
    "confStats$slope <- NA\n",
    "confStats$rsquared <- NA\n",
    "confStats$useful <- NA\n",
    "\n",
    "confStatsIN <- data.frame(tests)\n",
    "confStatsIN$posYield <- NA\n",
    "confStatsIN$avgAcc <- NA\n",
    "confStatsIN$medAcc <- NA\n",
    "confStatsIN$propAcc <- NA\n",
    "confStatsIN$outlierCount <- NA\n",
    "confStatsIN$totalPoints <- NA\n",
    "#confStatsIN$nbBins <- NA\n",
    "#confStatsIN$intercept <- NA\n",
    "#confStatsIN$slope <- NA\n",
    "#confStatsIN$rsquared <- NA\n",
    "#confStatsIN$useful <- NA\n",
    "\n",
    "confStatsOUT <- data.frame(tests)\n",
    "confStatsOUT$posYield <- NA\n",
    "confStatsOUT$avgAcc <- NA\n",
    "confStatsOUT$medAcc <- NA\n",
    "confStatsOUT$propAcc <- NA\n",
    "confStatsOUT$outlierCount <- NA\n",
    "confStatsOUT$totalPoints <- NA\n",
    "confStatsOUT$nbBins <- NA\n",
    "confStatsOUT$intercept <- NA\n",
    "confStatsOUT$slope <- NA\n",
    "confStatsOUT$rsquared <- NA\n",
    "confStatsOUT$useful <- NA\n",
    "\n",
    "#evaluation of HPE-influence\n",
    "\n",
    "#tests_AllHPE <- array(list(), dim=c(length(tests),1))\n",
    "\n",
    "tests_AllHPE <- list(tests)"
   ]
  },
  {
   "cell_type": "code",
   "execution_count": 84,
   "metadata": {
    "collapsed": false,
    "scrolled": true
   },
   "outputs": [
    {
     "name": "stderr",
     "output_type": "stream",
     "text": [
      "Warning message:\n",
      "In max(estPos1$error[estPos1$HPE < AllHPE$HPE[i]]): no non-missing arguments to max; returning -InfWarning message:\n",
      "In max(estPos1$error[estPos1$HPE < AllHPE$HPE[i]]): no non-missing arguments to max; returning -InfWarning message:\n",
      "In max(estPos1$error[estPos1$HPE < AllHPE$HPE[i]]): no non-missing arguments to max; returning -Inf"
     ]
    }
   ],
   "source": [
    "\n",
    "for (t in 1:length(tests)){\n",
    "TEST <- tests[t]\n",
    "    estPos1 <- all_pos[all_pos$TRANSMITTER==TEST,]\n",
    "    \n",
    "    # tag positions in/out receiver array\n",
    "    estPos1$inPoly <- point.in.polygon(estPos1$Easting, estPos1$Northing, recPoly$Easting,recPoly$Northing)\n",
    "    \n",
    "    # Take true measured position from syncRec\n",
    "    estPos1East <- subset(syncRec, Station.Name == TEST)$Easting\n",
    "    estPos1North <-subset(syncRec, Station.Name == TEST)$Northing\n",
    "    estPos1East <- ifelse(is.na(estPos1East), median(estPos1$Easting),estPos1East)\n",
    "    estPos1North <- ifelse(is.na(estPos1North), median(estPos1$Northing),estPos1North)\n",
    "    estPos1$error <- sqrt( (estPos1$Easting-(estPos1East))^2 + (estPos1$Northing-(estPos1North))^2)\n",
    "\n",
    "    #What is the fix rate based on transmit rate and test length\n",
    "    #convert date time\n",
    "    tagDateTime<- as.POSIXct((estPos1$DATETIME), tz='UTC')\n",
    "    testLength<- as.numeric(max(tagDateTime))-as.numeric(min(tagDateTime))\n",
    "    #number of transmissions that should occur\n",
    "    possibleFixes <- (as.numeric(max(tagDateTime))-as.numeric(min(tagDateTime)))/transRateStat\n",
    "    #total number of transmissions heard\n",
    "    actualFixes <- length(estPos1$DATETIME)\n",
    "    #Fix Rate for static test (= position yield)\n",
    "    fixRateStat <- (actualFixes/possibleFixes)*100\n",
    "    \n",
    "    confStats$posYield[t] <- fixRateStat\n",
    "    confStats$avgAcc[t] <- mean(estPos1$error)\n",
    "    confStats$medAcc[t] <- median(estPos1$error)\n",
    "    confStats$propAcc[t] <- length(which( estPos1$error < accGoal ))/length(estPos1$error)\n",
    "    confStats$outlierCount[t] <- length(which( estPos1$error > OutlierGoal ))\n",
    "    confStats$totalPoints[t] <- length(estPos1$error)\n",
    "    \n",
    "    confStatsIN$posYield[t] <- length(estPos1$error[estPos1$inPoly==1])/possibleFixes\n",
    "    confStatsIN$avgAcc[t] <- mean(estPos1$error[estPos1$inPoly==1])\n",
    "    confStatsIN$medAcc[t] <- median(estPos1$error[estPos1$inPoly==1])\n",
    "    confStatsIN$propAcc[t] <- length(which( estPos1$error[estPos1$inPoly==1] < accGoal ))/length(estPos1$error[estPos1$inPoly==1])\n",
    "    confStatsIN$outlierCount[t] <- length(which( estPos1$error[estPos1$inPoly==1] > OutlierGoal ))\n",
    "    confStatsIN$totalPoints[t] <- length(estPos1$error[estPos1$inPoly==1])\n",
    "    confStatsIN$pointsP[t] <- confStatsIN$totalPoints[t]/confStats$totalPoints[t]*100\n",
    "    \n",
    "    # Binning by HPE\n",
    "    #1. Bin by HPE\n",
    "    # Create increments to bin by\n",
    "    breaks <-seq(0, max(estPos1$HPE),by=1)\n",
    "    # Create a column with bins\n",
    "    estPos1$bin <- cut(estPos1$HPE,breaks)\n",
    "    #2. Calculate the average error for each 1 unit HPE bin\n",
    "    binMean <- tapply(estPos1$HPEm,estPos1$bin,mean,na.rm=TRUE)\n",
    "    # count the number of HPEs that fit into each bin value\n",
    "    binNum <- tapply(estPos1$HPEm,estPos1$bin,length)\n",
    "    binNum[is.na(binNum)] <- 0\n",
    "    # New dataframe for bin data\n",
    "    bin <- data.frame(binMean, binNum)\n",
    "    #3. Every HPE value in a given 1 m bin has a corresponding HPEm. Each of\n",
    "    #these HPEm distances is composed of 2 elements: the error (difference\n",
    "    #between the calculated and measured position) in the X direction (xe), and\n",
    "    #the error in the Y direction (ye).\n",
    "    estPos1$xe <- sqrt((estPos1$Easting-(estPos1East))^2)\n",
    "    estPos1$ye <- sqrt((estPos1$Northing-(estPos1North))^2)\n",
    "    #4. For each bin, the standard deviations of Xe and Ye are calculated.\n",
    "    bin$xeSd <- tapply(estPos1$xe,estPos1$bin,sd)\n",
    "    bin$yeSd <- tapply(estPos1$ye,estPos1$bin,sd)\n",
    "    #5. To convert the 2-dimensional standard deviations calculated in #4 into a single measure, \n",
    "    #the 2DRMS error is calculated from the standard deviations of Xe and Ye\n",
    "    bin$RMS2d <- 2*sqrt((bin$xeSd)^2 + (bin$yeSd)^2)\n",
    "    #6. Now create a line plot and a dataframe just for the numbers we need, \n",
    "    #(ie when we have at least 10 tag transmissions and an HPE less than 21)\n",
    "    bin$avgHPE <- tapply(estPos1$HPE,estPos1$bin,mean)\n",
    "    smallBin <- bin[ which(bin$binNum > 10),]\n",
    "    smallBin <- smallBin[which(smallBin$avgHPE < 21 ),]\n",
    "    res3 <- lm(smallBin$RMS2d ~ smallBin$avgHPE)\n",
    "\n",
    "    confStats$intercept[t] <- coefficients(res3)[1]\n",
    "    confStats$slope[t] <- coefficients(res3)[2]\n",
    "    confStats$rsquared[t] <- summary(res3)$r.squared\n",
    "    confStats$nbBins[t] <- length(which(bin$binNum > 10))\n",
    "    \n",
    "    if (confStats$nbBins[t]>3 && confStats$rsquared[t] >0.7) {\n",
    "        confStats$useful[t] <- 'Yes'}\n",
    "        else {\n",
    "            confStats$useful[t] <- 'No'\n",
    "        }\n",
    "    \n",
    "\n",
    "    HPE<- c(2:15)# we want a list of all possible HPE cutoffs\n",
    "    AllHPE <- data.frame(HPE)\n",
    "    AllHPE$ptsReject <- NA # number of points removed\n",
    "    AllHPE$ptsRejectP <- NA # percentage of all points\n",
    "    AllHPE$ptsRetain <- NA # number of poitns retained\n",
    "    AllHPE$ptsRetainP <- NA # percentage of all points\n",
    "    AllHPE$incorrectReject <- NA# good= error < accGoal and unacceptably erroneous= error > accGoal\n",
    "    AllHPE$incorrectRejectP <- NA #incorrectly rejected/all rejected*100\n",
    "    AllHPE$incorrectRetain<- NA\n",
    "    AllHPE$incorrectRetainP <- NA #incorrectly retained/all retained *100 (own def)\n",
    "    AllHPE$correctReject <- NA\n",
    "    AllHPE$correctRejectP <- NA #correctly rejected/all rejected *100 (own def)\n",
    "    AllHPE$correctRetain <- NA\n",
    "    AllHPE$correctRetainP <- NA #correctly retained/all retained *100 (own def)\n",
    "    AllHPE$goodDataLossP <- NA# incorrectReject/goodpts *100\n",
    "    AllHPE$badDataRetainP <- NA# incorrectRetain/badpts * 100 (own def)\n",
    "    AllHPE$sdDEV<-NA\n",
    "    AllHPE$avgErr<-NA\n",
    "    AllHPE$maxErr <- NA\n",
    "    AllHPE$countOut <- NA # amount of retained outlier points (error > outlierGoal, but HPE < filter)\n",
    "    AllHPE$meanOutValue <- NA # mean of errors that are outlier errors (> outlierGoal) of retained points\n",
    "    AllHPE$insideReject <- NA # amount of rejected points inside the recPoly (receiver array polygon)\n",
    "    AllHPE$outsideReject <- NA # amount of rejected points outside the recPoly\n",
    "    AllHPE$outsideRejectP <- NA # percentage of total rejected fish positions lying outside the recPoly\n",
    "    AllHPE$spatCov <- NA # area of spatial coverage by retained fish positions\n",
    "\n",
    "    # Number of all points that were unacceptably erroneous\n",
    "    badpts <-length(estPos1$error[estPos1$error > accGoal ])\n",
    "    # % of all points were unacceptably erroneous\n",
    "    badptsP <-(length(estPos1$error[estPos1$error > accGoal ])/(length(estPos1$error)))*100\n",
    "    #Number of all points that are good\n",
    "    goodpts <-length(estPos1$error[estPos1$error <= accGoal ])\n",
    "    #% of all points that are good\n",
    "    goodptsP <- (length(estPos1$error[estPos1$error <= accGoal ])/(length(estPos1$error)))*100\n",
    "\n",
    "    for( i in 1: length(AllHPE$HPE)){\n",
    "\n",
    "        # which() gives al the indices where the logical is true => these are counted with length\n",
    "    \n",
    "        AllHPE$ptsReject[i] <- length(which(estPos1$HPE > AllHPE$HPE[i]))\n",
    "        AllHPE$ptsRejectP[i] <- length(which(estPos1$HPE > AllHPE$HPE[i]))/(length(estPos1$error))*100 #% of all points dropped\n",
    "        AllHPE$ptsRetain[i] <- length(which(estPos1$HPE < AllHPE$HPE[i]))\n",
    "        AllHPE$ptsRetainP[i] <- length(which(estPos1$HPE < AllHPE$HPE[i]))/(length(estPos1$error))*100 #% of all points retained\n",
    "    \n",
    "        #incorrect reject: error < than acceptable error, but HPE > filter (in AllHPE)\n",
    "        AllHPE$incorrectReject[i] <- length(which((estPos1$HPE[estPos1$error <=accGoal] > AllHPE$HPE[i]) == TRUE))\n",
    "        AllHPE$incorrectRejectP[i] <-AllHPE$incorrectReject[i]/AllHPE$ptsReject[i]*100\n",
    "\n",
    "        #incorrect retain\n",
    "        AllHPE$incorrectRetain[i] <-length( which((estPos1$HPE[ estPos1$error >accGoal ] < AllHPE$HPE[i]) == TRUE))\n",
    "        AllHPE$incorrectRetainP[i] <-AllHPE$incorrectRetain[i]/AllHPE$ptsRetain[i]*100\n",
    "    \n",
    "        #Correctly Rejected\n",
    "        AllHPE$correctReject[i] <-(length(which((estPos1$HPE[estPos1$error > accGoal] > AllHPE$HPE[i]) == TRUE)))\n",
    "        AllHPE$correctRejectP[i]<- AllHPE$correctReject[i]/AllHPE$ptsReject[i]*100\n",
    "    \n",
    "        #Correctly Retained\n",
    "        AllHPE$correctRetain[i] <- length(which((estPos1$HPE[ estPos1$error < accGoal] < AllHPE$HPE[i]) == TRUE))\n",
    "        AllHPE$correctRetainP[i]<-AllHPE$correctRetain[i]/AllHPE$ptsRetain[i]*100\n",
    "    \n",
    "        AllHPE$goodDataLossP[i] <- (AllHPE$incorrectReject[i] / goodpts)*100\n",
    "        AllHPE$badDataRetainP[i] <- (AllHPE$incorrectRetain[i]/badpts)*100 \n",
    "        AllHPE$avgErr[i] <- mean(estPos1$error[ estPos1$HPE < AllHPE$HPE[i]]) #mean of all error for each hpe\n",
    "        AllHPE$sdDEV [i]<- sd(estPos1$error[ estPos1$HPE < AllHPE$HPE[i]]) #Standard deviation of all error for each HPE\n",
    "        AllHPE$maxErr[i] <- max(estPos1$error[ estPos1$HPE < AllHPE$HPE[i]]) #max of all error for each hpe\n",
    "        AllHPE$countOut[i] <- length(which( (estPos1$HPE[ estPos1$error > OutlierGoal] <AllHPE$HPE[i]) == TRUE )) #for each HPE nb of points with error > outliergoal\n",
    "        # if you want to select the correct indexes, give criteria as AND, because subselecting in subselection => indexes have changed\n",
    "        AllHPE$meanOutValue[i] <- mean(estPos1$error[which( (estPos1$HPE<AllHPE$HPE[i]&estPos1$error > OutlierGoal) == TRUE )])\n",
    "    \n",
    "        #Fish positions inside/outside error and spatial coverage of all fish positions\n",
    "    \n",
    "        AllHPE$insideReject[i] <- sum(pos$inPoly[pos$HPE>AllHPE$HPE[i]])\n",
    "        AllHPE$outsideReject[i] <- length(which(pos$HPE > AllHPE$HPE[i]))-AllHPE$insideReject[i]\n",
    "        AllHPE$outsideRejectP[i] <- AllHPE$outsideReject[i]/length(which(pos$HPE > AllHPE$HPE[i]))*100\n",
    "        \n",
    "        retained <- subset(pos, pos$HPE<AllHPE$HPE[i])\n",
    "        h <- chull(retained$Easting, retained$Northing)\n",
    "        AllHPE$spatCov[i] <- areapl(cbind(retained$Easting[h], retained$Northing[h]))\n",
    "    \n",
    "    }\n",
    "    \n",
    "    tests_AllHPE[[TEST]] <- AllHPE\n",
    "\n",
    "    }\n",
    "\n",
    "   # options(warn=-1) #turn off warnings\n"
   ]
  },
  {
   "cell_type": "markdown",
   "metadata": {},
   "source": [
    "The table below shows the calculated parameters for all ref and sync transmitters for estimating the baseline position confidence in the array.\n",
    "\n",
    "- **posYield**: number of positions observed / max possible number of positions during the period\n",
    "- **avgAcc**: mean error (goal = 0.66 m)\n",
    "- **medAcc**: median error\n",
    "- **propAcc**: proportion of positions that meet the accuracy goal (error < accGoal)\n",
    "- **outlierCount**: number of positions that exceed the max. acceptable error (15 m)\n",
    "- **totalPoints**: total number of positions calculated for that transmitter\n",
    "- **nbBins**: number of bins with at least 10 tags (binWidth = 1 HPE-value)\n",
    "- linear model calculated for all bins with average HPE < 21: **intercept**, **slope** and **R squared** \n",
    "- **useful**: more then 3 bins and R squared > 0.7\n",
    "\n",
    "*PROBLEM*: the slope varies between -5 and 19 for the different stationary tags (12 if we don't count R1, which has only 2 bins). Especially negative slopes are problematic: lower errors when HPE is larger...   \n",
    "It looks as if the (statistical) relationship error-HPE is very different among different stationary tags, so how to determine which of these relationships would count for fish tags?   \n",
    "For S10, S12, S13, S17 and S18: Rsquared values are too low => relationship cannot be used."
   ]
  },
  {
   "cell_type": "code",
   "execution_count": 72,
   "metadata": {
    "collapsed": false,
    "scrolled": true
   },
   "outputs": [
    {
     "data": {
      "text/html": [
       "<table>\n",
       "<thead><tr><th></th><th scope=col>tests</th><th scope=col>posYield</th><th scope=col>avgAcc</th><th scope=col>medAcc</th><th scope=col>propAcc</th><th scope=col>outlierCount</th><th scope=col>totalPoints</th><th scope=col>nbBins</th><th scope=col>intercept</th><th scope=col>slope</th><th scope=col>rsquared</th><th scope=col>useful</th></tr></thead>\n",
       "<tbody>\n",
       "\t<tr><th scope=row>1</th><td>R1</td><td>87.03543</td><td>1.259361</td><td>1.130591</td><td>0.9472629</td><td>19</td><td>7983</td><td>2</td><td>-30.70008</td><td>19.13045</td><td>1</td><td>No</td></tr>\n",
       "\t<tr><th scope=row>2</th><td>R2</td><td>89.37297</td><td>1.216124</td><td>0.8478138</td><td>0.9827986</td><td>40</td><td>8197</td><td>5</td><td>-14.08632</td><td>12.31543</td><td>0.792425</td><td>Yes</td></tr>\n",
       "\t<tr><th scope=row>3</th><td>R3</td><td>86.21215</td><td>6.448813</td><td>1.743749</td><td>0.6983685</td><td>1662</td><td>7907</td><td>7</td><td>-1.846323</td><td>6.764974</td><td>0.756447</td><td>Yes</td></tr>\n",
       "\t<tr><th scope=row>4</th><td>S7</td><td>78.80395</td><td>20.93063</td><td>12.38225</td><td>0.343296</td><td>3327</td><td>7227</td><td>11</td><td>59.71397</td><td>-4.942258</td><td>0.5373927</td><td>No</td></tr>\n",
       "\t<tr><th scope=row>5</th><td>S8</td><td>87.10182</td><td>0.7135164</td><td>0.697094</td><td>0.991989</td><td>10</td><td>7989</td><td>3</td><td>-0.2600634</td><td>0.7228226</td><td>0.8961728</td><td>No</td></tr>\n",
       "\t<tr><th scope=row>6</th><td>S10</td><td>84.03773</td><td>3.346662</td><td>0.900842</td><td>0.670083</td><td>289</td><td>7708</td><td>7</td><td>21.54305</td><td>0.1571795</td><td>0.00092587</td><td>No</td></tr>\n",
       "\t<tr><th scope=row>7</th><td>S12</td><td>82.86296</td><td>11.02394</td><td>4.091735</td><td>0.1764474</td><td>1709</td><td>7600</td><td>23</td><td>44.79086</td><td>-0.3681985</td><td>0.02216662</td><td>No</td></tr>\n",
       "\t<tr><th scope=row>8</th><td>S13</td><td>85.05751</td><td>6.278547</td><td>2.252352</td><td>0.5292911</td><td>1130</td><td>7801</td><td>41</td><td>23.27253</td><td>-0.09547875</td><td>0.004373078</td><td>No</td></tr>\n",
       "\t<tr><th scope=row>9</th><td>S14</td><td>86.0363</td><td>1.175656</td><td>0.9502188</td><td>0.9472817</td><td>13</td><td>7891</td><td>6</td><td>-3.045411</td><td>2.274102</td><td>0.8656384</td><td>Yes</td></tr>\n",
       "\t<tr><th scope=row>10</th><td>S15</td><td>84.23204</td><td>11.03787</td><td>8.032306</td><td>0.3980067</td><td>2335</td><td>7726</td><td>7</td><td>6.300856</td><td>5.321627</td><td>0.5360079</td><td>No</td></tr>\n",
       "\t<tr><th scope=row>11</th><td>S16</td><td>86.45715</td><td>3.430661</td><td>2.460944</td><td>0.5156368</td><td>45</td><td>7930</td><td>4</td><td>-1.006012</td><td>5.064925</td><td>0.8161161</td><td>Yes</td></tr>\n",
       "\t<tr><th scope=row>12</th><td>S17</td><td>77.72867</td><td>2.669121</td><td>1.96033</td><td>0.6663394</td><td>123</td><td>7130</td><td>13</td><td>11.45589</td><td>0.2359571</td><td>0.01302939</td><td>No</td></tr>\n",
       "\t<tr><th scope=row>13</th><td>S18</td><td>88.05061</td><td>1.422933</td><td>1.24551</td><td>0.9763497</td><td>31</td><td>8076</td><td>4</td><td>7.600088</td><td>0.2658614</td><td>0.001890984</td><td>No</td></tr>\n",
       "</tbody>\n",
       "</table>\n"
      ],
      "text/latex": [
       "\\begin{tabular}{r|llllllllllll}\n",
       "  & tests & posYield & avgAcc & medAcc & propAcc & outlierCount & totalPoints & nbBins & intercept & slope & rsquared & useful\\\\\n",
       "\\hline\n",
       "\t1 & R1 & 87.03543 & 1.259361 & 1.130591 & 0.9472629 & 19 & 7983 & 2 & -30.70008 & 19.13045 & 1 & No\\\\\n",
       "\t2 & R2 & 89.37297 & 1.216124 & 0.8478138 & 0.9827986 & 40 & 8197 & 5 & -14.08632 & 12.31543 & 0.792425 & Yes\\\\\n",
       "\t3 & R3 & 86.21215 & 6.448813 & 1.743749 & 0.6983685 & 1662 & 7907 & 7 & -1.846323 & 6.764974 & 0.756447 & Yes\\\\\n",
       "\t4 & S7 & 78.80395 & 20.93063 & 12.38225 & 0.343296 & 3327 & 7227 & 11 & 59.71397 & -4.942258 & 0.5373927 & No\\\\\n",
       "\t5 & S8 & 87.10182 & 0.7135164 & 0.697094 & 0.991989 & 10 & 7989 & 3 & -0.2600634 & 0.7228226 & 0.8961728 & No\\\\\n",
       "\t6 & S10 & 84.03773 & 3.346662 & 0.900842 & 0.670083 & 289 & 7708 & 7 & 21.54305 & 0.1571795 & 0.00092587 & No\\\\\n",
       "\t7 & S12 & 82.86296 & 11.02394 & 4.091735 & 0.1764474 & 1709 & 7600 & 23 & 44.79086 & -0.3681985 & 0.02216662 & No\\\\\n",
       "\t8 & S13 & 85.05751 & 6.278547 & 2.252352 & 0.5292911 & 1130 & 7801 & 41 & 23.27253 & -0.09547875 & 0.004373078 & No\\\\\n",
       "\t9 & S14 & 86.0363 & 1.175656 & 0.9502188 & 0.9472817 & 13 & 7891 & 6 & -3.045411 & 2.274102 & 0.8656384 & Yes\\\\\n",
       "\t10 & S15 & 84.23204 & 11.03787 & 8.032306 & 0.3980067 & 2335 & 7726 & 7 & 6.300856 & 5.321627 & 0.5360079 & No\\\\\n",
       "\t11 & S16 & 86.45715 & 3.430661 & 2.460944 & 0.5156368 & 45 & 7930 & 4 & -1.006012 & 5.064925 & 0.8161161 & Yes\\\\\n",
       "\t12 & S17 & 77.72867 & 2.669121 & 1.96033 & 0.6663394 & 123 & 7130 & 13 & 11.45589 & 0.2359571 & 0.01302939 & No\\\\\n",
       "\t13 & S18 & 88.05061 & 1.422933 & 1.24551 & 0.9763497 & 31 & 8076 & 4 & 7.600088 & 0.2658614 & 0.001890984 & No\\\\\n",
       "\\end{tabular}\n"
      ],
      "text/plain": [
       "   tests posYield     avgAcc     medAcc   propAcc outlierCount totalPoints\n",
       "1     R1 87.03543  1.2593609  1.1305914 0.9472629           19        7983\n",
       "2     R2 89.37297  1.2161238  0.8478138 0.9827986           40        8197\n",
       "3     R3 86.21215  6.4488130  1.7437486 0.6983685         1662        7907\n",
       "4     S7 78.80395 20.9306276 12.3822519 0.3432960         3327        7227\n",
       "5     S8 87.10182  0.7135164  0.6970940 0.9919890           10        7989\n",
       "6    S10 84.03773  3.3466616  0.9008420 0.6700830          289        7708\n",
       "7    S12 82.86296 11.0239353  4.0917345 0.1764474         1709        7600\n",
       "8    S13 85.05751  6.2785468  2.2523517 0.5292911         1130        7801\n",
       "9    S14 86.03630  1.1756557  0.9502188 0.9472817           13        7891\n",
       "10   S15 84.23204 11.0378714  8.0323055 0.3980067         2335        7726\n",
       "11   S16 86.45715  3.4306606  2.4609438 0.5156368           45        7930\n",
       "12   S17 77.72867  2.6691208  1.9603302 0.6663394          123        7130\n",
       "13   S18 88.05061  1.4229328  1.2455105 0.9763497           31        8076\n",
       "   nbBins   intercept       slope    rsquared useful\n",
       "1       2 -30.7000840 19.13044746 1.000000000     No\n",
       "2       5 -14.0863190 12.31542979 0.792424981    Yes\n",
       "3       7  -1.8463233  6.76497397 0.756446970    Yes\n",
       "4      11  59.7139703 -4.94225842 0.537392717     No\n",
       "5       3  -0.2600634  0.72282260 0.896172842     No\n",
       "6       7  21.5430534  0.15717954 0.000925870     No\n",
       "7      23  44.7908595 -0.36819846 0.022166618     No\n",
       "8      41  23.2725338 -0.09547875 0.004373078     No\n",
       "9       6  -3.0454108  2.27410165 0.865638433    Yes\n",
       "10      7   6.3008559  5.32162685 0.536007876     No\n",
       "11      4  -1.0060123  5.06492512 0.816116058    Yes\n",
       "12     13  11.4558911  0.23595707 0.013029387     No\n",
       "13      4   7.6000881  0.26586139 0.001890984     No"
      ]
     },
     "execution_count": 72,
     "metadata": {},
     "output_type": "execute_result"
    }
   ],
   "source": [
    "confStats"
   ]
  },
  {
   "cell_type": "markdown",
   "metadata": {},
   "source": [
    "**18 outliers within array???**"
   ]
  },
  {
   "cell_type": "code",
   "execution_count": 85,
   "metadata": {
    "collapsed": false,
    "scrolled": true
   },
   "outputs": [
    {
     "data": {
      "text/html": [
       "<table>\n",
       "<thead><tr><th></th><th scope=col>tests</th><th scope=col>posYield</th><th scope=col>avgAcc</th><th scope=col>medAcc</th><th scope=col>propAcc</th><th scope=col>outlierCount</th><th scope=col>totalPoints</th><th scope=col>pointsP</th></tr></thead>\n",
       "<tbody>\n",
       "\t<tr><th scope=row>1</th><td>R1</td><td>0.8702452</td><td>1.255104</td><td>1.130591</td><td>0.9473816</td><td>18</td><td>7982</td><td>99.98747</td></tr>\n",
       "\t<tr><th scope=row>2</th><td>R2</td><td>0.01035798</td><td>23.47072</td><td>7.035767</td><td>0</td><td>32</td><td>95</td><td>1.158961</td></tr>\n",
       "\t<tr><th scope=row>3</th><td>R3</td><td>0.8619035</td><td>6.43138</td><td>1.743749</td><td>0.6985452</td><td>1660</td><td>7905</td><td>99.97471</td></tr>\n",
       "\t<tr><th scope=row>4</th><td>S7</td><td>0.5654868</td><td>28.3769</td><td>40.10324</td><td>0.1509834</td><td>3307</td><td>5186</td><td>71.75868</td></tr>\n",
       "\t<tr><th scope=row>5</th><td>S8</td><td>0.8710182</td><td>0.7135164</td><td>0.697094</td><td>0.991989</td><td>10</td><td>7989</td><td>100</td></tr>\n",
       "\t<tr><th scope=row>6</th><td>S10</td><td>0.8363433</td><td>3.054761</td><td>0.8926358</td><td>0.6733151</td><td>252</td><td>7671</td><td>99.51998</td></tr>\n",
       "\t<tr><th scope=row>7</th><td>S12</td><td>0.7933039</td><td>11.33659</td><td>4.139388</td><td>0.1562672</td><td>1701</td><td>7276</td><td>95.73684</td></tr>\n",
       "\t<tr><th scope=row>8</th><td>S13</td><td>0.4565258</td><td>10.16891</td><td>5.00409</td><td>0.2882732</td><td>1112</td><td>4187</td><td>53.67261</td></tr>\n",
       "\t<tr><th scope=row>9</th><td>S14</td><td>0.4119188</td><td>1.138671</td><td>0.8396086</td><td>0.9372684</td><td>10</td><td>3778</td><td>47.87733</td></tr>\n",
       "\t<tr><th scope=row>10</th><td>S15</td><td>0.5081615</td><td>17.03121</td><td>14.98529</td><td>0.1034113</td><td>2327</td><td>4661</td><td>60.32876</td></tr>\n",
       "\t<tr><th scope=row>11</th><td>S16</td><td>0.8645715</td><td>3.430661</td><td>2.460944</td><td>0.5156368</td><td>45</td><td>7930</td><td>100</td></tr>\n",
       "\t<tr><th scope=row>12</th><td>S17</td><td>0.5663401</td><td>3.093725</td><td>2.308885</td><td>0.5795958</td><td>109</td><td>5195</td><td>72.86115</td></tr>\n",
       "\t<tr><th scope=row>13</th><td>S18</td><td>0.8784346</td><td>1.341837</td><td>1.24551</td><td>0.9786521</td><td>18</td><td>8057</td><td>99.76474</td></tr>\n",
       "</tbody>\n",
       "</table>\n"
      ],
      "text/latex": [
       "\\begin{tabular}{r|llllllll}\n",
       "  & tests & posYield & avgAcc & medAcc & propAcc & outlierCount & totalPoints & pointsP\\\\\n",
       "\\hline\n",
       "\t1 & R1 & 0.8702452 & 1.255104 & 1.130591 & 0.9473816 & 18 & 7982 & 99.98747\\\\\n",
       "\t2 & R2 & 0.01035798 & 23.47072 & 7.035767 & 0 & 32 & 95 & 1.158961\\\\\n",
       "\t3 & R3 & 0.8619035 & 6.43138 & 1.743749 & 0.6985452 & 1660 & 7905 & 99.97471\\\\\n",
       "\t4 & S7 & 0.5654868 & 28.3769 & 40.10324 & 0.1509834 & 3307 & 5186 & 71.75868\\\\\n",
       "\t5 & S8 & 0.8710182 & 0.7135164 & 0.697094 & 0.991989 & 10 & 7989 & 100\\\\\n",
       "\t6 & S10 & 0.8363433 & 3.054761 & 0.8926358 & 0.6733151 & 252 & 7671 & 99.51998\\\\\n",
       "\t7 & S12 & 0.7933039 & 11.33659 & 4.139388 & 0.1562672 & 1701 & 7276 & 95.73684\\\\\n",
       "\t8 & S13 & 0.4565258 & 10.16891 & 5.00409 & 0.2882732 & 1112 & 4187 & 53.67261\\\\\n",
       "\t9 & S14 & 0.4119188 & 1.138671 & 0.8396086 & 0.9372684 & 10 & 3778 & 47.87733\\\\\n",
       "\t10 & S15 & 0.5081615 & 17.03121 & 14.98529 & 0.1034113 & 2327 & 4661 & 60.32876\\\\\n",
       "\t11 & S16 & 0.8645715 & 3.430661 & 2.460944 & 0.5156368 & 45 & 7930 & 100\\\\\n",
       "\t12 & S17 & 0.5663401 & 3.093725 & 2.308885 & 0.5795958 & 109 & 5195 & 72.86115\\\\\n",
       "\t13 & S18 & 0.8784346 & 1.341837 & 1.24551 & 0.9786521 & 18 & 8057 & 99.76474\\\\\n",
       "\\end{tabular}\n"
      ],
      "text/plain": [
       "   tests   posYield     avgAcc     medAcc   propAcc outlierCount totalPoints\n",
       "1     R1 0.87024523  1.2551044  1.1305914 0.9473816           18        7982\n",
       "2     R2 0.01035798 23.4707184  7.0357674 0.0000000           32          95\n",
       "3     R3 0.86190348  6.4313804  1.7437486 0.6985452         1660        7905\n",
       "4     S7 0.56548678 28.3768976 40.1032444 0.1509834         3307        5186\n",
       "5     S8 0.87101817  0.7135164  0.6970940 0.9919890           10        7989\n",
       "6    S10 0.83634329  3.0547615  0.8926358 0.6733151          252        7671\n",
       "7    S12 0.79330385 11.3365919  4.1393881 0.1562672         1701        7276\n",
       "8    S13 0.45652584 10.1689111  5.0040903 0.2882732         1112        4187\n",
       "9    S14 0.41191884  1.1386715  0.8396086 0.9372684           10        3778\n",
       "10   S15 0.50816147 17.0312079 14.9852894 0.1034113         2327        4661\n",
       "11   S16 0.86457151  3.4306606  2.4609438 0.5156368           45        7930\n",
       "12   S17 0.56634006  3.0937252  2.3088845 0.5795958          109        5195\n",
       "13   S18 0.87843456  1.3418370  1.2455105 0.9786521           18        8057\n",
       "      pointsP\n",
       "1   99.987473\n",
       "2    1.158961\n",
       "3   99.974706\n",
       "4   71.758683\n",
       "5  100.000000\n",
       "6   99.519979\n",
       "7   95.736842\n",
       "8   53.672606\n",
       "9   47.877329\n",
       "10  60.328760\n",
       "11 100.000000\n",
       "12  72.861150\n",
       "13  99.764735"
      ]
     },
     "execution_count": 85,
     "metadata": {},
     "output_type": "execute_result"
    }
   ],
   "source": [
    "confStatsIN"
   ]
  },
  {
   "cell_type": "markdown",
   "metadata": {},
   "source": [
    "pointsP: percentage of points lying within the receiver array"
   ]
  },
  {
   "cell_type": "markdown",
   "metadata": {},
   "source": [
    "Below you see the plots of data loss versus retention, for the 4 stationary tags that I would consider as useful (more than 3 bins and Rsquared > 0.7).    \n",
    "From high to low: R2, R3 (ref transmitters), S14, S16 (synchronization transmitters)   \n",
    "Incorrectly rejecting is never a problem, but incorrectly retaining is: up to 50 % unacceptable data retention in the last case... Also the latter is a very strange plot, with some HPE-points overlaying each other...   \n",
    "According to the first graph (R2), a HPE-filter of 4 would give an incorrect retention lower than 1 %, but for S16 almost half of the data would be incorrectly retained at this HPE-filter... Doesn't look promising with respect to the incorrect data that the fish tracks can contain then..."
   ]
  },
  {
   "cell_type": "code",
   "execution_count": null,
   "metadata": {
    "collapsed": false
   },
   "outputs": [],
   "source": [
    "display_png(file=\"figures/LossVSret_R2.png\")\n",
    "display_png(file=\"figures/LossVSret_R3.png\")\n",
    "display_png(file=\"figures/LossVSret_S14.png\")\n",
    "display_png(file=\"figures/LossVSret_S16.png\")\n"
   ]
  },
  {
   "cell_type": "markdown",
   "metadata": {},
   "source": [
    "The figure below shows the location of reference transmitters and receiver stations. The synchronization (sync) transmitters are colocated with the receiver stations, except for S18-2 and S9, which are pure receiver stations.   \n",
    "Sync transmitters which resulted in negative slopes of the error-HPE relation, are S7, S12 and S13. These are positioned at the outside of the array, which might explain why they behave so badly.   \n",
    "For the sync transmitters with very low R squared, S17 is also at the outside, but S18 is positioned quite good I would say. S10 also doesn't seem badly positioned, but being out of sight of S15 and S16 may give rise to a lot of reflected (false) positions..."
   ]
  },
  {
   "cell_type": "code",
   "execution_count": null,
   "metadata": {
    "collapsed": false,
    "scrolled": true
   },
   "outputs": [],
   "source": [
    "display_png(file=\"/Users/jennavergeynst/Documents/Analysis/QGis visualisaties/ReceiverArray.png\")\n"
   ]
  },
  {
   "cell_type": "code",
   "execution_count": null,
   "metadata": {
    "collapsed": true
   },
   "outputs": [],
   "source": []
  }
 ],
 "metadata": {
  "kernelspec": {
   "display_name": "R",
   "language": "R",
   "name": "ir"
  },
  "language_info": {
   "codemirror_mode": "r",
   "file_extension": ".r",
   "mimetype": "text/x-r-source",
   "name": "R",
   "pygments_lexer": "r",
   "version": "3.2.4"
  }
 },
 "nbformat": 4,
 "nbformat_minor": 0
}
