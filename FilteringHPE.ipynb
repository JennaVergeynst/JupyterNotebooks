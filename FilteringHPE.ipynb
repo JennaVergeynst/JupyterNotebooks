{
 "cells": [
  {
   "cell_type": "markdown",
   "metadata": {},
   "source": [
    "# Filtering HPE"
   ]
  },
  {
   "cell_type": "markdown",
   "metadata": {},
   "source": [
    "R code from Meckley2014\n",
    "This code is for fixed tag and mobile tag test, for both the tag matching fish tag type.\n",
    "Here we try it on the reference transmitters, which don't match the fish tag type (larger average delay)."
   ]
  },
  {
   "cell_type": "code",
   "execution_count": null,
   "metadata": {
    "collapsed": false
   },
   "outputs": [],
   "source": [
    "library(IRdisplay)\n",
    "\n",
    "display_html(\n",
    "'<script>  \n",
    "code_show=true; \n",
    "function code_toggle() {\n",
    "  if (code_show){\n",
    "    $(\\'div.input\\').hide();\n",
    "  } else {\n",
    "    $(\\'div.input\\').show();\n",
    "  }\n",
    "  code_show = !code_show\n",
    "}  \n",
    "$( document ).ready(code_toggle);\n",
    "</script>\n",
    "  <form action=\"javascript:code_toggle()\">\n",
    "    <input type=\"submit\" value=\"Click here to toggle on/off the raw code.\">\n",
    " </form>'\n",
    ")"
   ]
  },
  {
   "cell_type": "code",
   "execution_count": 2,
   "metadata": {
    "collapsed": false
   },
   "outputs": [],
   "source": [
    "# load packages\n",
    "require(PBSmapping)\n",
    "library(ggplot2)\n",
    "require(grid)\n",
    "require(gridExtra)\n",
    "require(sp)\n",
    "library(rbokeh)\n"
   ]
  },
  {
   "cell_type": "code",
   "execution_count": 16,
   "metadata": {
    "collapsed": false
   },
   "outputs": [
    {
     "ename": "ERROR",
     "evalue": "Error in fig$x: $ operator is invalid for atomic vectors\n",
     "output_type": "error",
     "traceback": [
      "Error in fig$x: $ operator is invalid for atomic vectors\n"
     ]
    },
    {
     "name": "stderr",
     "output_type": "stream",
     "text": [
      "This figure is empty...\n"
     ]
    }
   ],
   "source": [
    "x=1:15\n",
    "y=1:15\n",
    "p <- ly_lines(x,y)\n",
    "p"
   ]
  },
  {
   "cell_type": "code",
   "execution_count": 10,
   "metadata": {
    "collapsed": false
   },
   "outputs": [],
   "source": [
    "p <- figure() %>%\n",
    "  ly_points(Sepal.Length, Sepal.Width, data = iris,\n",
    "    color = Species, glyph = Species,\n",
    "    hover = list(Sepal.Length, Sepal.Width))\n",
    "show(p)"
   ]
  },
  {
   "cell_type": "markdown",
   "metadata": {},
   "source": [
    "## Step 1: Importing data"
   ]
  },
  {
   "cell_type": "code",
   "execution_count": null,
   "metadata": {
    "collapsed": false
   },
   "outputs": [],
   "source": [
    "# fixed tag data\n",
    "estPos1 <- read.csv(\"~/Documents/DataHam/VPS/VPS-INBO-01-Results20160304/Positions/TRANSMITTER-S8-CALC-POSITIONS.csv\")\n",
    "# If available: drag tag data + gpsDrag: gps file from a trimble that was exactly above the drag\n",
    "# tagDrag\n",
    "# gpsDrag\n",
    "# actual vps fish data\n",
    "pos <- read.csv(\"~/Documents/DataHam/VPS/VPS-INBO-01-Results20160304/ALL-CALC-POSITIONS_onlyFishSheet.csv\")\n",
    "# receiver positions\n",
    "rec2016 <- read.csv(\"~/Documents/DataHam/VPS/VPS-INBO-01-Results20160304/onlyStationLocations.csv\")\n",
    "# structure for viewing (csv file with contour of the sluices)\n",
    "walls <- read.csv(\"~/Documents/Analysis/QGis visualisaties/walls-nodes.csv\")\n",
    "# polygon contouring the receiver array\n",
    "POLYGON <- read.csv(\"~/Documents/Analysis/QGis visualisaties/recArray-nodes.csv\")"
   ]
  },
  {
   "cell_type": "markdown",
   "metadata": {
    "collapsed": true
   },
   "source": [
    "## Step 2: Set configurations, fixed variables and limits to match study specifications"
   ]
  },
  {
   "cell_type": "code",
   "execution_count": null,
   "metadata": {
    "collapsed": true
   },
   "outputs": [],
   "source": [
    "# known Easting and Northing (UTM) for fixed tag location. If not known (like for R1): NA.\n",
    "estPos1East <-NA\n",
    "estPos1North <-NA\n",
    "# average tag transmission rate of stationary and mobile tag (here only stationary)\n",
    "# calculate the average delay with head(as.numeric(diff(estPos1$DATETIME)), -1), but as.numeric \n",
    "# is not working. For now just between min and max delay (540 and 660)\n",
    "transRateStat <- 600\n",
    "# transRateMobile\n",
    "# Select HPE filter (first try, should be set after evaluating the array)\n",
    "HPEfilter <- 8\n",
    "# Map plotting limits: look at study site and identify min and max easting and northing\n",
    "xAxisMax <-648200\n",
    "xAxisMin <-647550\n",
    "yAxisMax <-5662900\n",
    "yAxisMin <-5662500\n",
    "# Error Range of interest, just leave this for most applications\n",
    "ErrorRange <- c(1:30)\n",
    "\n",
    "# Accuracy Goals: These are determined by your reserach questions and analysis needs.\n",
    "# CHECK THESE AGAIN!\n",
    "# Outlier Maximum\n",
    "OutlierGoal <- 15\n",
    "# Accuracy Goal for all Points: 2DRMS <= accGoal (Trevor: 6m)\n",
    "accGoal <- 1\n",
    "# Goal for average accuracy if studying path lengths (1 order of magnitude less than max path length): mean error < 1.77\n",
    "#avgAccGoal<- 1.77\n",
    "# Setup for Evaluations\n",
    "HPELow <- 2 #Lowest HPE to consider in plot.\n",
    "HPEHigh<- 15 #Higest HPE to consider in plot.\n",
    "#Length of Tag Drag in Seconds\n",
    "#tagDragLength <- 4860 #recorded during the test\n",
    "#UTC time zone difference to correct for variable times\n",
    "#timeZoneDiff=4*60*60"
   ]
  },
  {
   "cell_type": "markdown",
   "metadata": {},
   "source": [
    "## Step 3: Evaluate the array with fixed tag and tag drag data."
   ]
  },
  {
   "cell_type": "code",
   "execution_count": null,
   "metadata": {
    "collapsed": false
   },
   "outputs": [],
   "source": [
    "# Convert Latitude longitude to UTM\n",
    "tagll <- data.frame(X = estPos1$LON, Y = estPos1$LAT)\n",
    "attr(tagll, \"projection\") <- \"LL\"\n",
    "xy <- convUL(tagll) * 1000\n",
    "# Rename Positions\n",
    "tag1Easting<- xy[,1]\n",
    "tag1Northing<- xy[,2]\n",
    "estPos1$Easting<- tag1Easting\n",
    "estPos1$Northing<- tag1Northing\n",
    "# Median Point if a measured point is unavailable\n",
    "estPos1East <- ifelse(is.na(estPos1East), median(estPos1$Easting),estPos1East)\n",
    "estPos1North <- ifelse(is.na(estPos1North), median(estPos1$Northing),estPos1North)\n",
    "# calculate distance between each point and the average\n",
    "estPos1$error <- sqrt( (tag1Easting-(estPos1East))^2 + (tag1Northing-(estPos1North))^2)\n",
    "# IF DRAG TEST AVAILABLE:\n",
    "# What is the fix rate based on transmit rate and test length\n",
    "# ...\n",
    "# Process tag drag data\n",
    "# ...\n",
    "# Format receiver locations\n",
    "# preparing receiver data for use in plots\n",
    "tagll <- data.frame(X = rec2016$Longitude, Y=rec2016$Latitude)\n",
    "attr(tagll, \"projection\") <- \"LL\"\n",
    "xyrec <- convUL(tagll) * 1000\n",
    "rec2016$Easting<- xyrec[,1]\n",
    "rec2016$Northing<- xyrec[,2]\n",
    "# More tagDrag stuff...\n"
   ]
  },
  {
   "cell_type": "markdown",
   "metadata": {},
   "source": [
    "## Step 4: Relationship between HPE and measured accuracy (HPEm)"
   ]
  },
  {
   "cell_type": "code",
   "execution_count": null,
   "metadata": {
    "collapsed": false
   },
   "outputs": [],
   "source": [
    "#1. Bin by HPE\n",
    "# Create increments to bin by\n",
    "breaks <-seq(0, max(estPos1$HPE),by=0.1)\n",
    "# Create a column with bins\n",
    "estPos1$bin <- cut(estPos1$HPE,breaks)\n",
    "#2. Calculate the average error (HPEm) for each 1 unit HPE bin\n",
    "binMean <- tapply(estPos1$HPEm,estPos1$bin,mean)\n",
    "# count the number of HPEs that fit into each bin value\n",
    "binNum <- tapply(estPos1$HPEm,estPos1$bin,length)\n",
    "binNum[is.na(binNum)] <- 0\n",
    "# New dataframe for bin data\n",
    "bin <- data.frame(binMean, binNum)\n",
    "#3. Every HPE value in a given 1 m bin has a corresponding HPEm. Each of\n",
    "    #these HPEm distances is composed of 2 elements: the error (difference\n",
    "    #between the calculated and measured position) in the X direction (xe), and\n",
    "    #the error in the Y direction (ye).\n",
    "estPos1$xe <- sqrt((tag1Easting-(estPos1East))^2)\n",
    "estPos1$ye <- sqrt((tag1Northing-(estPos1North))^2)\n",
    "#4. For each bin, the standard deviations of Xe and Ye are calculated.\n",
    "bin$xeSd <- tapply(estPos1$xe,estPos1$bin,sd)\n",
    "bin$yeSd <- tapply(estPos1$ye,estPos1$bin,sd)\n",
    "#5. To convert the 2-dimensional standard deviations calculated in #4 into a single measure, \n",
    "    #the 2DRMS error is calculated from the standard deviations of Xe and Ye\n",
    "bin$RMS2d <- 2*sqrt((bin$xeSd)^2 + (bin$yeSd)^2)\n",
    "#6. Now create a line plot and a dataframe just for the numbers we need, \n",
    "    #(ie when we have at least 10 tag transmissions and an HPE less than 21)\n",
    "bin$avgHPE <- tapply(estPos1$HPE,estPos1$bin,mean)\n",
    "smallBin <- bin[ which(bin$binNum > 10),]\n",
    "smallBin <- smallBin[which(smallBin$avgHPE < 21 ),]\n",
    "res3 <- lm(smallBin$RMS2d ~ smallBin$avgHPE)"
   ]
  },
  {
   "cell_type": "code",
   "execution_count": null,
   "metadata": {
    "collapsed": false
   },
   "outputs": [],
   "source": [
    "bin"
   ]
  },
  {
   "cell_type": "markdown",
   "metadata": {},
   "source": [
    "Plot 1a: A close up of a fixed test to identify any irregular error bias (are there tails?)."
   ]
  },
  {
   "cell_type": "code",
   "execution_count": null,
   "metadata": {
    "collapsed": false
   },
   "outputs": [],
   "source": [
    "# PLOT THE POINT SPREAD\n",
    "xyplot<- data.frame(tag1Easting, tag1Northing)\n",
    "plot1a<- qplot(tag1Easting, tag1Northing , alpha= 1/100,data = xyplot, xlab='Easting (m)', \n",
    "               ylab= 'Northing (m) ') + theme_bw()\n",
    "plot1a<- plot1a + geom_point(data=xyplot,aes(estPos1East,estPos1North), col=\"white\", \n",
    "                             shape = 18, size= 4)\n",
    "plot1a<- plot1a +theme(text = element_text(size=25), plot.title = element_text(vjust= 2), \n",
    "                       axis.text.y = element_text(angle=90, hjust= 0.5), \n",
    "                       axis.title.y = element_text(vjust= -0.02), \n",
    "                       axis.title.x = element_text(vjust= -0.02), \n",
    "                       plot.margin = unit(c(1,1.5,1,1.5), \"cm\"))\n",
    "plot1a<- plot1a+theme(legend.position=\"none\")#remove legend\n",
    "#plot1a<- plot1a + coord_cartesian(xlim=c(647650,647750), ylim=c(5662750,5662850))\n",
    "plot1a<- plot1a + coord_cartesian(xlim=c(xAxisMin,xAxisMax), ylim=c(yAxisMin,yAxisMax))\n",
    "plot1a"
   ]
  },
  {
   "cell_type": "code",
   "execution_count": null,
   "metadata": {
    "collapsed": false
   },
   "outputs": [],
   "source": [
    "#Graph of HPE to error relationship\n",
    "plot2a<- qplot(estPos1$HPE, estPos1$error , alpha= 1/100, data = xyplot, \n",
    "               xlab= 'HPE', ylab= 'Measured Error (m)')+ scale_y_continuous(limits = c(0, 21)) + \n",
    "                scale_x_continuous(limits = c(0, 21)) + theme_bw() +\n",
    "                theme(plot.margin=unit(c(1,1.5,1,1.5), \"cm\"),panel.grid.major=element_blank(),\n",
    "                panel.grid.minor=element_blank())+ theme(legend.position=\"none\")\n",
    "plot2a<- plot2a +theme(text = element_text(size=20),plot.title = element_text(vjust= 2), \n",
    "                       axis.title.y = element_text(vjust= -0.02), \n",
    "                       axis.title.x = element_text(vjust= -0.02))\n",
    "plot2a <- plot2a + geom_point(data=smallBin, shape= 19, size= 5,col='black', \n",
    "                              bg= 'black',alpha= 1, aes(x = avgHPE, y = RMS2d)) + \n",
    "                                theme(legend.position = \"none\")\n",
    "plot2a<- plot2a + geom_point(data=smallBin, shape= 19, size= 4.2,col='white', alpha= 1, \n",
    "                               aes(x = avgHPE, y = RMS2d)) + theme(legend.position = \"none\")\n",
    "plot2a<- plot2a + geom_point(data=smallBin, shape= 4, size = 3,color='red', \n",
    "                             aes(x = avgHPE, y = RMS2d)) + theme(legend.position = \"none\")\n",
    "plot2a<- plot2a +geom_abline(data=res3, col='white', aes(intercept=res3$coefficients[1], \n",
    "                                                         slope=res3$coefficients[2] ), size=1)\n",
    "plot2a<- plot2a +geom_abline(data=res3, col='black', linetype='dashed', \n",
    "                             aes(intercept=res3$coefficients[1], slope=res3$coefficients[2]), \n",
    "                             size= 1)\n",
    "# Add model equation and R2 to graph\n",
    "# function to add linear model to graph\n",
    "# Setup for a linear model to be added to a ggplot\n",
    "lm_eqn = function(m) {\n",
    "l <- list(a = format(coef(m)[1], digits = 2),\n",
    "b = format(abs(coef(m)[2]), digits = 2),\n",
    "r2 = format(summary(m)$r.squared, digits = 3));\n",
    "if (coef(m)[2] >= 0) {\n",
    "eq <- substitute(italic(y) == a + b %.% italic(x)*\",\"~~italic(r)^2~\"=\"~r2,l)\n",
    "} else {\n",
    "eq <- substitute(italic(y) == a - b %.% italic(x)*\",\"~~italic(r)^2~\"=\"~r2,l)\n",
    "}\n",
    "as.character(as.expression(eq));\n",
    "}\n",
    "# calls in linear model function for linear model res3\n",
    "plot2a=plot2a + annotate(\"text\",x = 8, y = 20,label = lm_eqn(res3), size= 6, parse=TRUE)\n",
    "\n",
    "plot2a"
   ]
  },
  {
   "cell_type": "markdown",
   "metadata": {},
   "source": [
    "Plot 2a: The HPE versus measured error to the median point (HPEm) is shown for each estimated position during the tests for a fixed test (black dots). The white circles with black outline and red x represent the two dimensional root mean square error of x and y components of error within an HPE bin of one.\n",
    "95 percent of tag detections have an error less than this point within each bin. The line running between these points represents the two dimensional root means square error (2DRMS) and the equation and fit for this line are shown in the top left corner."
   ]
  },
  {
   "cell_type": "markdown",
   "metadata": {},
   "source": [
    "**COMMENT**\n",
    "Normaal bin je slechts per HPE = 1, hier gebind per 0.2, anders slechts 2 punten. Niet echt mooi resultaat, vergeleken met vb...\n",
    "\n"
   ]
  },
  {
   "cell_type": "markdown",
   "metadata": {
    "collapsed": true
   },
   "source": [
    "## Step 5: Influence of HPE thresholds on fixed test data"
   ]
  },
  {
   "cell_type": "code",
   "execution_count": null,
   "metadata": {
    "collapsed": false
   },
   "outputs": [],
   "source": [
    "#What type of HPE cutoff should we use if we know what level of error we want\n",
    "#!#! YOU MUST CHANGE accGoal to your desired error\n",
    "#now evaluate how HPE cutoffs work if we want a specific error value\n",
    "HPE<- c(1:HPEHigh)# we want a list of all possible HPE cutoffs\n",
    "AllHPE <- data.frame(HPE)\n",
    "AllHPE$ptsReject <- NA # number of points removed\n",
    "AllHPE$ptsRejectP <- NA # percentage of all points\n",
    "AllHPE$ptsRetain <- NA # number of poitns retained\n",
    "AllHPE$ptsRetainP <- NA # percentage of all points\n",
    "AllHPE$incorrectReject <- NA# good= error < accGoal and unacceptably erroneous= error > accGoal\n",
    "AllHPE$incorrectRejectP <- NA\n",
    "AllHPE$incorrectRetain<- NA\n",
    "AllHPE$incorrectRetainP <- NA\n",
    "AllHPE$incorrectRetainPvsRetain <-NA # incorretly retained/all retained *100\n",
    "AllHPE$correctReject <- NA\n",
    "AllHPE$correctRejectP <- NA\n",
    "AllHPE$correctRetain <- NA\n",
    "AllHPE$correctRetainP <- NA\n",
    "AllHPE$goodDataLossP <- NA# incorrectReject/goodpts *100\n",
    "AllHPE$badDataRetainP <- NA# incorrectRetain/AllHPE$ptsRetain * 100\n",
    "AllHPE$sdDEV<-NA\n",
    "AllHPE$avgErr<-NA\n",
    "AllHPE$maxErr <- NA\n",
    "# Number of all points that were unacceptably erroneous\n",
    "badpts <-length(estPos1$error[estPos1$error > accGoal ])\n",
    "# % of all points were unacceptably erroneous\n",
    "badptsP <-(length(estPos1$error[estPos1$error > accGoal ])/(length(estPos1$error)))*100\n",
    "#Number of all points that are good\n",
    "goodpts <-length(estPos1$error[estPos1$error <= accGoal ])\n",
    "#% of all points that are good\n",
    "goodptsP <- (length(estPos1$error[estPos1$error <= accGoal ])/(length(estPos1$error)))*100\n",
    "\n",
    "for( i in 1: length(AllHPE$HPE)){\n",
    "\n",
    "    # which() gives al the indices where the logical is true => these are counted with length\n",
    "    \n",
    "    AllHPE$ptsReject[i] <- length(which(estPos1$HPE > AllHPE$HPE[i]))\n",
    "    AllHPE$ptsRejectP[i] <- length(which(estPos1$HPE > AllHPE$HPE[i]))/(length(estPos1$error))*100 #% of all points dropped\n",
    "    AllHPE$ptsRetain[i] <- length(which(estPos1$HPE < AllHPE$HPE[i]))\n",
    "    AllHPE$ptsRetainP[i] <- length(which(estPos1$HPE < AllHPE$HPE[i]))/(length(estPos1$error))*100 #% of all points dropped\n",
    "    \n",
    "    #incorrect reject: error < than acceptable error, but HPE > filter (in AllHPE)\n",
    "    AllHPE$incorrectReject[i] <- length(which((estPos1$HPE[estPos1$error <=accGoal] > AllHPE$HPE[i]) == TRUE))\n",
    "    #divided by total with acceptable error\n",
    "    AllHPE$incorrectRejectP[i] <-(AllHPE$incorrectReject[i]/length(estPos1$error[estPos1$error <= accGoal]))*100\n",
    "\n",
    "    #incorrect retain\n",
    "    AllHPE$incorrectRetain[i] <-length( which((estPos1$HPE[ estPos1$error >accGoal ] < AllHPE$HPE[i]) == TRUE))\n",
    "    #divided by accurate points\n",
    "    AllHPE$incorrectRetainP[i] <-(AllHPE$incorrectRetain[i]/length(estPos1$error[estPos1$error > accGoal ]))*100\n",
    "    #divided by total retained by filter\n",
    "    AllHPE$incorrectRetainPvsRetain[i] <-(AllHPE$incorrectRetain[i]/AllHPE$ptsRetain[i] )*100\n",
    "    \n",
    "    #Correctly Rejected\n",
    "    AllHPE$correctReject[i] <-(length(which((estPos1$HPE[estPos1$error > accGoal] > AllHPE$HPE[i]) == TRUE)))\n",
    "    #divided by sum of all positions \n",
    "    # QUESTION: here it is divided by all retained positions, not by all positions (like below)\n",
    "    AllHPE$correctRejectP[i]<- (AllHPE$correctReject[i]/AllHPE$ptsRetain[i])*100\n",
    "    \n",
    "    #Correctly Retained\n",
    "    AllHPE$correctRetain[i] <- length(which((estPos1$HPE[ estPos1$error < accGoal] < AllHPE$HPE[i]) == TRUE))\n",
    "    #divided by sum of all positions\n",
    "    AllHPE$correctRetainP[i]<-(AllHPE$correctRetain[i]/length(estPos1$error))*100\n",
    "    \n",
    "    AllHPE$goodDataLossP[i] <- (AllHPE$incorrectReject[i] / goodpts)*100\n",
    "    AllHPE$badDataRetainP[i] <- (AllHPE$incorrectRetain[i]/AllHPE$ptsRetain[i])*100 \n",
    "    AllHPE$avgErr[i] <- mean(estPos1$error[ estPos1$HPE < AllHPE$HPE[i]]) #mean of all error for each hpe\n",
    "    AllHPE$sdDEV [i]<- sd(estPos1$error[ estPos1$HPE < AllHPE$HPE[i]]) #Standard deviation of all error for each HPE\n",
    "    AllHPE$maxErr[i] <- max(estPos1$error[ estPos1$HPE < AllHPE$HPE[i]]) #max of all error for each hpe\n",
    "    AllHPE$count15[i] <- length(which( (estPos1$HPE[ estPos1$error > 15] <AllHPE$HPE[i]) == TRUE ))\n",
    "    }\n",
    "    "
   ]
  },
  {
   "cell_type": "code",
   "execution_count": null,
   "metadata": {
    "collapsed": true
   },
   "outputs": [],
   "source": [
    "#Relationship between incorrectly rejected of acceptable data and incorrectly retained of all retained data.\n",
    "\n",
    "start <- HPELow\n",
    "end <- HPEHigh\n",
    "AllHPEperf1 <- data.frame(HPE=AllHPE$HPE[start:end],perc=AllHPE$correctRejectP[start:end])\n",
    "AllHPEperf1$var <-\"Correct Rejection\"\n",
    "AllHPEperf2 <- data.frame(HPE=AllHPE$HPE[start:end],perc=AllHPE$incorrectRetainP[start:end])\n",
    "AllHPEperf2$var <-\"Incorrect Retainment\"\n",
    "AllHPEperf3 <- data.frame(HPE=AllHPE$HPE[start:end],perc=AllHPE$incorrectRejectP[start:end])\n",
    "AllHPEperf3$var <-\"Incorrect Rejection\"\n",
    "#Combine all seconts for graph\n",
    "AllHPEperf <- rbind(AllHPEperf1,AllHPEperf3,AllHPEperf2)\n",
    "#note legend is alphabetical but graph is by dataframe order"
   ]
  },
  {
   "cell_type": "code",
   "execution_count": null,
   "metadata": {
    "collapsed": false
   },
   "outputs": [],
   "source": [
    "plot3a <- qplot( AllHPE$incorrectRetainPvsRetain, AllHPE$incorrectRejectP,size=3, xlab= '% Incorrecly Retained \n",
    "(of all retained positions)',ylab= ' % Incorrectly Rejected \\n (of all acceptable positions)' )+ylim(0,2) + xlim(3,4)+ theme_bw() + theme( \n",
    "    plot.margin = unit(c(1,1.5,1,1.5), \"cm\"),panel.grid.major=element_blank(), panel.grid.minor=element_blank())\n",
    "\n",
    "plot3a<- plot3a +geom_line(data=AllHPE, aes(x=AllHPE$incorrectRetainPvsRetain,\n",
    "                                            y=AllHPE$incorrectRejectP),color= 'black', size=0.25)\n",
    "plot3a<- plot3a + theme_bw() + theme( text = element_text(size=25),\n",
    "#plot.title = element_text(vjust= 2),\n",
    "axis.text.y = element_text(angle=90, hjust= 0.4),\n",
    "axis.title.y = element_text(vjust= .3),\n",
    "axis.title.x = element_text(vjust= -0.02 ),\n",
    "plot.margin = unit(c(1,1.5,1,1.5), \"cm\"),\n",
    "panel.grid.major=element_blank(), panel.grid.minor=element_blank(),\n",
    "legend.position = c(1.5, 0.8),\n",
    "legend.background = element_rect(fill = \"transparent\",colour = NA),\n",
    "legend.title=element_blank() )\n",
    "plot3a <-plot3a+ geom_text(cex=6,aes(x=(AllHPE$incorrectRetainPvsRetain[3:15]),\n",
    "y=(AllHPE$incorrectRejectP[3:15])+4 , label=AllHPE$HPE[3:15], group=NULL),)\n",
    "\n",
    "plot3a"
   ]
  },
  {
   "cell_type": "markdown",
   "metadata": {},
   "source": [
    "Plot 3: The figure informs how well HPE filters keep acceptably accurate data while removing unacceptable\n",
    "data. The points are labeled by their associated HPE value."
   ]
  },
  {
   "cell_type": "code",
   "execution_count": null,
   "metadata": {
    "collapsed": false
   },
   "outputs": [],
   "source": [
    "plot4a <- ggplot( data= AllHPE[start:end,],\n",
    "aes(x = AllHPE$HPE[start:end])) +\n",
    "geom_point(aes(y = AllHPE$avgErr[start:end],\n",
    "shape= \"Mean Error\" ), size= 4, color= 'black') +\n",
    "geom_point(aes(y = AllHPE$maxErr[start:end],\n",
    "shape=\"Maximum Error\" ), size= 4, color='black') +\n",
    "geom_line(aes(y = OutlierGoal), size= 1, lty= 'dashed') +\n",
    "#ggtitle(label6a)+\n",
    "theme_bw() + theme( text = element_text(size=25),\n",
    "plot.title = element_text(vjust= 2),\n",
    "axis.text.y = element_text(angle=90, hjust= 0.5),\n",
    "axis.title.y = element_text(vjust= -0.02 ),\n",
    "axis.title.x = element_text(vjust= -0.02 ),\n",
    "plot.margin = unit(c(1,1.5,1,1.5), \"cm\"),\n",
    "panel.grid.major=element_blank(),\n",
    "panel.grid.minor=element_blank(),\n",
    "legend.position = c(0.35, 0.65),\n",
    "legend.background = element_rect(\n",
    "fill = \"transparent\",colour = NA),\n",
    "legend.title=element_blank() ) +\n",
    "xlab('HPE' ) +\n",
    "coord_cartesian( ylim=c(0,45.25)) +\n",
    "scale_y_continuous(\"Error (m)\",breaks= round(seq(min(0),\n",
    "max(35), by = 5),1)) +\n",
    "scale_x_continuous(\"HPE\",breaks=round(seq(min(AllHPE$HPE),\n",
    "max(AllHPE$HPE), by = 1),1)) +\n",
    "geom_text(cex=6,aes(x=AllHPE$HPE[3:15],y= (45),\n",
    "label=AllHPE$count15[3:15], group=NULL),)\n",
    "\n",
    "plot4a"
   ]
  },
  {
   "cell_type": "markdown",
   "metadata": {},
   "source": [
    "Plot 4: The mean error, maximum measured error, and number of unacceptably high error values\n",
    "are displayed at the top of the figure."
   ]
  },
  {
   "cell_type": "markdown",
   "metadata": {},
   "source": [
    "## Step 6: Influence of HPE cutoffs on tag drag data."
   ]
  },
  {
   "cell_type": "markdown",
   "metadata": {},
   "source": [
    "## Step 7: Influence of HPE cutoff on fish tracking data."
   ]
  },
  {
   "cell_type": "markdown",
   "metadata": {},
   "source": [
    "Identify internal and external array areas to compare performance."
   ]
  },
  {
   "cell_type": "code",
   "execution_count": null,
   "metadata": {
    "collapsed": false
   },
   "outputs": [],
   "source": [
    "#Area of Receiver Coverage\n",
    "tagll <- data.frame(X = POLYGON$Longitude, Y = POLYGON$Latitude)\n",
    "attr(tagll, \"projection\") <- \"LL\"\n",
    "xyrec <- convUL(tagll) * 1000\n",
    "POLYGON$Easting<- xyrec[,1]\n",
    "POLYGON$Northing<- xyrec[,2]\n",
    "\n",
    "#convert fishpositions (pos) in easting, northing\n",
    "tagll <- data.frame(X = pos$LON, Y = pos$LAT)\n",
    "attr(tagll, \"projection\") <- \"LL\"\n",
    "xyrec <- convUL(tagll) * 1000\n",
    "pos$Easting<- xyrec[,1]\n",
    "pos$Northing<- xyrec[,2]\n",
    "\n",
    "#convert receiver locations (rec2016) in easting, northing\n",
    "tagll <- data.frame(X = rec2016$Longitude, Y = rec2016$Latitude)\n",
    "attr(tagll, \"projection\") <- \"LL\"\n",
    "xyrec <- convUL(tagll) * 1000\n",
    "rec2016$Easting<- xyrec[,1]\n",
    "rec2016$Northing<- xyrec[,2]\n",
    "\n",
    "#convert walls in easting, northing\n",
    "\n",
    "tagll <- data.frame(X = walls$Longitude, Y = walls$Latitude)\n",
    "attr(tagll, \"projection\") <- \"LL\"\n",
    "xyrec <- convUL(tagll) * 1000\n",
    "walls$Easting<- xyrec[,1]\n",
    "walls$Northing<- xyrec[,2]\n"
   ]
  },
  {
   "cell_type": "code",
   "execution_count": null,
   "metadata": {
    "collapsed": false
   },
   "outputs": [],
   "source": [
    "#Evaluate Actual fish tracking data (HPE FILTER)\n",
    "plot6a <- qplot(pos$Easting, pos$Northing, xlab= ' Easting (m)',\n",
    "ylab= 'Northing (m)\\n', size=I(1)) + theme_bw()\n",
    "plot6a<- plot6a + coord_cartesian(xlim=c(xAxisMin,xAxisMax),\n",
    "ylim=c(yAxisMin,yAxisMax))\n",
    "plot6a<- plot6a +theme(text = element_text(size=25),\n",
    "plot.title = element_text(vjust= 2),\n",
    "axis.text.y = element_text(angle=90, hjust= 0.5),\n",
    "axis.title.y = element_text(vjust= -0.02 ),\n",
    "axis.title.x = element_text(vjust= -0.02 ),\n",
    "plot.margin = unit(c(1,1.5,1,1.5), \"cm\") ) #make the axis\n",
    "plot6a<- plot6a + geom_point(data=pos[pos$HPE < 3,], aes(x=Easting,\n",
    "y=Northing),col=\"blue\", shape = 20, size= I(1))  \n",
    "plot6a<- plot6a + geom_point(data=pos[pos$HPE >= 3 &\n",
    "pos$HPE < 5 ,],aes(x=Easting, y=Northing),col=\"#56B4E9\",\n",
    "shape = 20, size= I(1))\n",
    "plot6a<- plot6a + geom_point(data=pos[pos$HPE >= 5 &\n",
    "pos$HPE < 10 ,],aes(x=Easting, y=Northing),col=\"green\",\n",
    "shape = 20, size= I(1))\n",
    "plot6a<- plot6a + geom_point(data=pos[pos$HPE >= 10 &\n",
    "pos$HPE < 15 ,],aes(x=Easting, y=Northing),col=\"yellow\",\n",
    "shape = 20,size= I(1))\n",
    "plot6a<- plot6a + geom_point(data=pos[pos$HPE >= 15 &\n",
    "pos$HPE < 20 ,],aes(x=Easting, y=Northing),col=\"#FFCC33\",\n",
    "shape = 20,size= I(1))\n",
    "plot6a<- plot6a + geom_point(data=pos[pos$HPE >= 20 ,],aes(x=Easting,\n",
    "y=Northing),col=\"red\", shape = 20, size= I(1))\n",
    "# add receiver positions:\n",
    "plot6a<- plot6a + geom_point(data=rec2016,aes(Easting, Northing),fill=\"black\",\n",
    "col=\"white\", shape = 24, size= 2, alpha=1)\n",
    "#+geom_text(data=rec2016,aes(Easting, Northing, label=rec2016$Station.Name),hjust=0, vjust=0, colour=\"red\", size = 3)\n",
    "# plot  delineation of study site (sluices)\n",
    "plot6a<- plot6a + geom_path(data=walls,aes(Easting,Northing),col=\"black\", size=1)\n",
    "\n",
    "plot6a"
   ]
  },
  {
   "cell_type": "markdown",
   "metadata": {},
   "source": [
    "Plot 6a: evaluate spatial trends in HPE for fish data"
   ]
  },
  {
   "cell_type": "markdown",
   "metadata": {},
   "source": [
    "Identify if fish are inside or outside the array"
   ]
  },
  {
   "cell_type": "code",
   "execution_count": null,
   "metadata": {
    "collapsed": false
   },
   "outputs": [],
   "source": [
    "xydata<-data.frame(X=pos$Easting, Y=pos$Northing)\n",
    "#create a polygon that covers the area of the data\n",
    "fishPoly<- calcConvexHull(xydata, keepExtra=FALSE)\n",
    "#Polygon(fishPoly)\n",
    "#calcArea, calcCentroid are likley both useful\n",
    "#Create a column in pos data.frame whether in or outside array\n",
    "pos$array<- point.in.polygon(pos$Easting,pos$Northing, POLYGON$Easting,POLYGON$Northing, mode.checked= TRUE)\n",
    "#plot of array polygon, with fish positions removed, 0 means not in array\n",
    "\n",
    "# Filter data FOR FIRST SET OF PLOTS\n",
    "cutoff <- HPEfilter\n",
    "posDrop <- nrow(pos[(pos$HPE > cutoff),])\n",
    "posDropArrayT <- ((pos$HPE[pos$array != 0]) > cutoff)\n",
    "posDropArray <- length(subset(posDropArrayT, posDropArrayT == TRUE))\n",
    "DropOutT <- ((pos$HPE[pos$array == 0]) > cutoff)\n",
    "posDropOut <- length(subset( DropOutT, DropOutT == TRUE))\n",
    "posTotal1<- nrow(pos)\n",
    "posTotal2<- length(pos$array[pos$array == 0])\n",
    "posTotal3<- length(pos$array[pos$array != 0])\n",
    "percDropFil1 <- (posDrop/posTotal1)*100 # % DroppedTota;\n",
    "percADropFil1 <- (posDropArray/posTotal2)*100 #% dropped in the array\n",
    "percODropFil1 <- (posDropOut/posTotal3)*100 #% dropped outside of the array\n",
    "\n",
    "#Now identify the silhoutte of the point cluster using calcConvexHull\n",
    "xydata1<-data.frame(X=pos$EASTING[pos$HPE < cutoff ], Y=pos$NORTHING[pos$HPE <cutoff ])\n",
    "#create a polygon that covers the area of the data\n",
    "# fishPoly1<- calcConvexHull(xydata1, keepExtra=FALSE)\n",
    "# head(xydata1)\n",
    "# points(fishPoly1$X, fishPoly1$Y, col='red')\n",
    "# #plot(pos$EASTING,pos$NORTHING)\n",
    "# #calcArea, calcCentroid are likley both useful\n",
    "# areaFil1 <- calcArea(fishPoly1) #calculates area of polygon\n"
   ]
  },
  {
   "cell_type": "code",
   "execution_count": null,
   "metadata": {
    "collapsed": false
   },
   "outputs": [],
   "source": [
    "#Plot 1- all fish positions\n",
    "plot7a <- qplot(pos$Easting, pos$Northing, xlab= ' Easting (m)', ylab=\n",
    "'Northing (m)',alpha=1/100, size=I(1)) + theme_bw()\n",
    "plot7a <- plot7a + coord_cartesian(xlim=c(xAxisMin,xAxisMax), ylim=c(yAxisMin,yAxisMax))\n",
    "plot7a <- plot7a + geom_point(data=rec2016,aes(Easting, Northing),col=\"red\",\n",
    "shape = 17, size= 2, alpha=1)\n",
    "plot7a <- plot7a +theme(text = element_text(size=13),\n",
    "plot.title = element_text(vjust= 2),\n",
    "axis.text.y = element_text(angle=90, hjust= 0.5),\n",
    "axis.title.y = element_text(vjust= -0.02 ),\n",
    "axis.title.x = element_text(vjust= -0.02 ),\n",
    "plot.margin = unit(c(1,1.5,1,1.5), \"cm\") ) #make the axis\n",
    "plot7a <- plot7a + theme(legend.position=\"none\") #remove legend\n",
    "\n",
    "#plot 2- all positions with HPE < cutoff\n",
    "\n",
    "plot7b <- qplot( pos$Easting[pos$HPE<= cutoff], pos$Northing[pos$HPE<= cutoff\n",
    "], xlab= ' Easting (m)', ylab= 'Northing (m) ', alpha=1/100, size=I(1)) + theme_bw()\n",
    "plot7b<- plot7b + coord_cartesian(xlim=c(xAxisMin,xAxisMax),\n",
    "ylim=c(yAxisMin,yAxisMax))\n",
    "plot7b<- plot7b + geom_point(data=rec2016,aes(Easting, Northing),col=\"red\",\n",
    "shape = 17, size= 2, alpha=1)\n",
    "plot7b<- plot7b +theme(text = element_text(size=13),\n",
    "plot.title = element_text(vjust= 2),\n",
    "axis.text.y = element_text(angle=90, hjust= 0.5),\n",
    "axis.title.y = element_text(vjust= -0.02 ),\n",
    "axis.title.x = element_text(vjust= -0.02 ),\n",
    "plot.margin = unit(c(1,1.5,1,1.5), \"cm\") ) #make the axis\n",
    "plot7b<- plot7b + theme(legend.position=\"none\") #remove legend\n",
    "\n",
    "#plot 3- all positions with HPE > cutoff)\n",
    "plot7c <- qplot( pos$Easting[pos$HPE> cutoff], pos$Northing[pos$HPE> cutoff],\n",
    "xlab= ' Easting (m)', ylab= 'Northing (m) ',alpha=1/100, size=I(1)) +\n",
    "theme_bw()\n",
    "plot7c<- plot7c + coord_cartesian(xlim=c(xAxisMin,xAxisMax),\n",
    "ylim=c(yAxisMin,yAxisMax))\n",
    "plot7c<- plot7c + geom_point(data=rec2016,aes(Easting, Northing),col=\"red\",shape = 17, size= 2, alpha=1)\n",
    "plot7c<- plot7c +theme(text = element_text(size=13),\n",
    "plot.title = element_text(vjust= 2),\n",
    "axis.text.y = element_text(angle=90, hjust= 0.5),\n",
    "axis.title.y = element_text(vjust= -0.02 ),\n",
    "axis.title.x = element_text(vjust= -0.02 ),\n",
    "plot.margin = unit(c(1,1.5,1,1.5), \"cm\") ) #make the axis\n",
    "plot7c<- plot7c + theme(legend.position=\"none\") #remove legend\n",
    "\n",
    "par(mfrow=c(3,1))\n",
    "\n",
    "plot7a\n",
    "plot7b\n",
    "plot7c"
   ]
  },
  {
   "cell_type": "markdown",
   "metadata": {},
   "source": [
    "Plot7a-7c: Evaluate trends in data loss spatially for fish telemetry data for a selected HPE cutoff. 7a:\n",
    "shows all fish data, 7b: shows remaining fish data following the use of a fixed HPE filter, and 7c: shows\n",
    "removed fish data."
   ]
  },
  {
   "cell_type": "code",
   "execution_count": null,
   "metadata": {
    "collapsed": true
   },
   "outputs": [],
   "source": []
  }
 ],
 "metadata": {
  "kernelspec": {
   "display_name": "R",
   "language": "R",
   "name": "ir"
  },
  "language_info": {
   "codemirror_mode": "r",
   "file_extension": ".r",
   "mimetype": "text/x-r-source",
   "name": "R",
   "pygments_lexer": "r",
   "version": "3.2.4"
  }
 },
 "nbformat": 4,
 "nbformat_minor": 0
}
